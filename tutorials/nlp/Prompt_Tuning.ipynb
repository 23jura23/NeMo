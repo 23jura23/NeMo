{
 "cells": [
  {
   "cell_type": "code",
   "execution_count": null,
   "id": "e6c4e546",
   "metadata": {},
   "outputs": [],
   "source": [
    "import torch\n",
    "from omegaconf.omegaconf import OmegaConf\n",
    "from pytorch_lightning import Trainer\n",
    "from pytorch_lightning.plugins.precision.native_amp import NativeMixedPrecisionPlugin\n",
    "from pytorch_lightning.trainer.connectors.checkpoint_connector import CheckpointConnector"
   ]
  },
  {
   "cell_type": "code",
   "execution_count": null,
   "id": "f035deae",
   "metadata": {},
   "outputs": [],
   "source": [
    "from nemo.collections.nlp.models.language_modeling.megatron_gpt_model import MegatronGPTModel\n",
    "from nemo.collections.nlp.modules.common.megatron.megatron_utils import compute_model_parallel_rank\n",
    "from nemo.collections.nlp.parts.nlp_overrides import GradScaler, NLPDDPPlugin, NLPSaveRestoreConnector\n",
    "from nemo.core.config import hydra_runner\n",
    "from nemo.utils import logging\n",
    "from nemo.utils.exp_manager import StatelessTimer, exp_manager\n",
    "from nemo.utils.config_utils import update_model_config"
   ]
  },
  {
   "cell_type": "code",
   "execution_count": null,
   "id": "f407d63c",
   "metadata": {},
   "outputs": [],
   "source": [
    "cfg = OmegaConf.load(\"conf/megatron_gpt_config.yaml\")\n",
    "\n",
    "cfg.trainer.gpus = 1\n",
    "\n",
    "# Set current model params\n",
    "cfg.model.encoder_seq_length = 2048\n",
    "\n",
    "# Set prompt tuning params\n",
    "cfg.model.optim.lr = 2e-4\n",
    "cfg.model.optim.sched.min_lr = 2e-6\n",
    "cfg.model.use_soft_prompts = True\n",
    "cfg.model.prompt_length = 10\n",
    "cfg.model.data.train_ds = 'prompt_tuning_ner_train.json'\n",
    "cfg.model.data.valid_ds = 'prompt_tuning_ner_val.json'\n",
    "cfg.model.data.test_ds = 'prompt_tuning_ner_test.json'\n",
    "cfg.model.data.batch_size = 32\n",
    "cfg.model.data.data_prefix = None\n",
    "cfg.model.optim.sched.warmup_steps = 100\n",
    "cfg.model.optim.sched.constant_steps = 1000\n",
    "cfg.trainer.max_steps = 3000\n",
    "cfg.restore_from_path = 'megatron_gpt.nemo'"
   ]
  },
  {
   "cell_type": "code",
   "execution_count": null,
   "id": "d5172227",
   "metadata": {
    "scrolled": true
   },
   "outputs": [],
   "source": [
    "plugins = [NLPDDPPlugin(num_nodes=cfg.trainer.num_nodes)]\n",
    "\n",
    "if cfg.get('cluster_type', None) == 'BCP':\n",
    "    plugins.append(TorchElasticEnvironment())\n",
    "\n",
    "trainer = Trainer(plugins=plugins, **cfg.trainer)\n",
    "\n",
    "exp_manager(trainer, cfg.exp_manager)\n",
    "\n",
    "model = MegatronGPTModel.restore_from(cfg.restore_from_path, cfg.model, trainer=trainer)"
   ]
  },
  {
   "cell_type": "code",
   "execution_count": null,
   "id": "5e990c3a",
   "metadata": {},
   "outputs": [],
   "source": [
    "model.get_prompt_table()"
   ]
  },
  {
   "cell_type": "code",
   "execution_count": null,
   "id": "466017f9",
   "metadata": {},
   "outputs": [],
   "source": [
    "model.init_prompt_from_text(\"NER-Yes-No\", \"named entities yes or no\")"
   ]
  },
  {
   "cell_type": "code",
   "execution_count": null,
   "id": "2ba1b3ad",
   "metadata": {},
   "outputs": [],
   "source": [
    "model.get_prompt_table()"
   ]
  },
  {
   "cell_type": "code",
   "execution_count": null,
   "id": "5e4e8455",
   "metadata": {},
   "outputs": [],
   "source": [
    "model.init_prompt_from_text(\"NER-Complete\", \"name chemicals entities in context\")"
   ]
  },
  {
   "cell_type": "code",
   "execution_count": null,
   "id": "103cf959",
   "metadata": {},
   "outputs": [],
   "source": [
    "model.get_prompt_table()"
   ]
  },
  {
   "cell_type": "code",
   "execution_count": null,
   "id": "e7e991ca",
   "metadata": {},
   "outputs": [],
   "source": [
    "model.prompt_tuning_freeze()"
   ]
  },
  {
   "cell_type": "code",
   "execution_count": null,
   "id": "2f91cddb",
   "metadata": {},
   "outputs": [],
   "source": [
    "for param in model.parameters():\n",
    "    if param.requires_grad:\n",
    "        print(param)"
   ]
  },
  {
   "cell_type": "code",
   "execution_count": null,
   "id": "69a4fd0a",
   "metadata": {},
   "outputs": [],
   "source": [
    "trainer.fit(model)"
   ]
  }
 ],
 "metadata": {
  "kernelspec": {
   "display_name": "Python 3 (ipykernel)",
   "language": "python",
   "name": "python3"
  },
  "language_info": {
   "codemirror_mode": {
    "name": "ipython",
    "version": 3
   },
   "file_extension": ".py",
   "mimetype": "text/x-python",
   "name": "python",
   "nbconvert_exporter": "python",
   "pygments_lexer": "ipython3",
   "version": "3.8.12"
  }
 },
 "nbformat": 4,
 "nbformat_minor": 5
}
